{
 "cells": [
  {
   "cell_type": "markdown",
   "metadata": {},
   "source": [
    "# Implementing the Gradient Descent Algorithm\n",
    "\n",
    "In this lab, we'll implement the basic functions of the Gradient Descent algorithm to find the boundary in a small dataset. First, we'll start with some functions that will help us plot and visualize the data."
   ]
  },
  {
   "cell_type": "code",
   "execution_count": 5,
   "metadata": {
    "collapsed": true
   },
   "outputs": [],
   "source": [
    "import matplotlib.pyplot as plt\n",
    "import numpy as np\n",
    "import pandas as pd\n",
    "\n",
    "#Some helper functions for plotting and drawing lines\n",
    "\n",
    "def plot_points(X, y):\n",
    "    admitted = X[np.argwhere(y==1)]\n",
    "    rejected = X[np.argwhere(y==0)]\n",
    "    plt.scatter([s[0][0] for s in rejected], [s[0][1] for s in rejected], s = 25, color = 'blue', edgecolor = 'k')\n",
    "    plt.scatter([s[0][0] for s in admitted], [s[0][1] for s in admitted], s = 25, color = 'red', edgecolor = 'k')\n",
    "\n",
    "def display(m, b, color='g--'):\n",
    "    plt.xlim(-0.05,1.05)\n",
    "    plt.ylim(-0.05,1.05)\n",
    "    x = np.arange(-10, 10, 0.1)\n",
    "    plt.plot(x, m*x+b, color)"
   ]
  },
  {
   "cell_type": "markdown",
   "metadata": {},
   "source": [
    "## Reading and plotting the data"
   ]
  },
  {
   "cell_type": "code",
   "execution_count": 6,
   "metadata": {
    "collapsed": true
   },
   "outputs": [
    {
     "output_type": "display_data",
     "data": {
      "text/plain": "<Figure size 432x288 with 1 Axes>",
      "image/svg+xml": "<?xml version=\"1.0\" encoding=\"utf-8\" standalone=\"no\"?>\r\n<!DOCTYPE svg PUBLIC \"-//W3C//DTD SVG 1.1//EN\"\r\n  \"http://www.w3.org/Graphics/SVG/1.1/DTD/svg11.dtd\">\r\n<!-- Created with matplotlib (https://matplotlib.org/) -->\r\n<svg height=\"248.518125pt\" version=\"1.1\" viewBox=\"0 0 372.103125 248.518125\" width=\"372.103125pt\" xmlns=\"http://www.w3.org/2000/svg\" xmlns:xlink=\"http://www.w3.org/1999/xlink\">\r\n <defs>\r\n  <style type=\"text/css\">\r\n*{stroke-linecap:butt;stroke-linejoin:round;}\r\n  </style>\r\n </defs>\r\n <g id=\"figure_1\">\r\n  <g id=\"patch_1\">\r\n   <path d=\"M 0 248.518125 \r\nL 372.103125 248.518125 \r\nL 372.103125 0 \r\nL 0 0 \r\nz\r\n\" style=\"fill:none;\"/>\r\n  </g>\r\n  <g id=\"axes_1\">\r\n   <g id=\"patch_2\">\r\n    <path d=\"M 30.103125 224.64 \r\nL 364.903125 224.64 \r\nL 364.903125 7.2 \r\nL 30.103125 7.2 \r\nz\r\n\" style=\"fill:#ffffff;\"/>\r\n   </g>\r\n   <g id=\"PathCollection_1\">\r\n    <defs>\r\n     <path d=\"M 0 2.5 \r\nC 0.663008 2.5 1.29895 2.236584 1.767767 1.767767 \r\nC 2.236584 1.29895 2.5 0.663008 2.5 0 \r\nC 2.5 -0.663008 2.236584 -1.29895 1.767767 -1.767767 \r\nC 1.29895 -2.236584 0.663008 -2.5 0 -2.5 \r\nC -0.663008 -2.5 -1.29895 -2.236584 -1.767767 -1.767767 \r\nC -2.236584 -1.29895 -2.5 -0.663008 -2.5 0 \r\nC -2.5 0.663008 -2.236584 1.29895 -1.767767 1.767767 \r\nC -1.29895 2.236584 -0.663008 2.5 0 2.5 \r\nz\r\n\" id=\"m1e29a41aa0\" style=\"stroke:#000000;\"/>\r\n    </defs>\r\n    <g clip-path=\"url(#p7ca1cadbdc)\">\r\n     <use style=\"fill:#0000ff;stroke:#000000;\" x=\"212.567171\" xlink:href=\"#m1e29a41aa0\" y=\"17.083636\"/>\r\n     <use style=\"fill:#0000ff;stroke:#000000;\" x=\"178.629986\" xlink:href=\"#m1e29a41aa0\" y=\"92.897249\"/>\r\n     <use style=\"fill:#0000ff;stroke:#000000;\" x=\"304.181611\" xlink:href=\"#m1e29a41aa0\" y=\"80.046381\"/>\r\n     <use style=\"fill:#0000ff;stroke:#000000;\" x=\"228.240405\" xlink:href=\"#m1e29a41aa0\" y=\"41.976965\"/>\r\n     <use style=\"fill:#0000ff;stroke:#000000;\" x=\"252.204552\" xlink:href=\"#m1e29a41aa0\" y=\"113.161291\"/>\r\n     <use style=\"fill:#0000ff;stroke:#000000;\" x=\"349.684943\" xlink:href=\"#m1e29a41aa0\" y=\"60.170745\"/>\r\n     <use style=\"fill:#0000ff;stroke:#000000;\" x=\"266.77274\" xlink:href=\"#m1e29a41aa0\" y=\"52.263234\"/>\r\n     <use style=\"fill:#0000ff;stroke:#000000;\" x=\"249.546303\" xlink:href=\"#m1e29a41aa0\" y=\"58.014996\"/>\r\n     <use style=\"fill:#0000ff;stroke:#000000;\" x=\"284.490308\" xlink:href=\"#m1e29a41aa0\" y=\"94.807688\"/>\r\n     <use style=\"fill:#0000ff;stroke:#000000;\" x=\"262.024112\" xlink:href=\"#m1e29a41aa0\" y=\"60.42163\"/>\r\n     <use style=\"fill:#0000ff;stroke:#000000;\" x=\"194.30015\" xlink:href=\"#m1e29a41aa0\" y=\"102.150245\"/>\r\n     <use style=\"fill:#0000ff;stroke:#000000;\" x=\"285.144127\" xlink:href=\"#m1e29a41aa0\" y=\"64.969146\"/>\r\n     <use style=\"fill:#0000ff;stroke:#000000;\" x=\"251.167037\" xlink:href=\"#m1e29a41aa0\" y=\"89.708226\"/>\r\n     <use style=\"fill:#0000ff;stroke:#000000;\" x=\"246.608722\" xlink:href=\"#m1e29a41aa0\" y=\"68.154451\"/>\r\n     <use style=\"fill:#0000ff;stroke:#000000;\" x=\"286.439486\" xlink:href=\"#m1e29a41aa0\" y=\"97.387154\"/>\r\n     <use style=\"fill:#0000ff;stroke:#000000;\" x=\"259.924525\" xlink:href=\"#m1e29a41aa0\" y=\"61.64446\"/>\r\n     <use style=\"fill:#0000ff;stroke:#000000;\" x=\"225.12479\" xlink:href=\"#m1e29a41aa0\" y=\"87.96876\"/>\r\n     <use style=\"fill:#0000ff;stroke:#000000;\" x=\"194.254106\" xlink:href=\"#m1e29a41aa0\" y=\"98.437152\"/>\r\n     <use style=\"fill:#0000ff;stroke:#000000;\" x=\"281.254979\" xlink:href=\"#m1e29a41aa0\" y=\"137.83347\"/>\r\n     <use style=\"fill:#0000ff;stroke:#000000;\" x=\"287.633549\" xlink:href=\"#m1e29a41aa0\" y=\"59.973754\"/>\r\n     <use style=\"fill:#0000ff;stroke:#000000;\" x=\"260.286734\" xlink:href=\"#m1e29a41aa0\" y=\"23.097433\"/>\r\n     <use style=\"fill:#0000ff;stroke:#000000;\" x=\"255.068462\" xlink:href=\"#m1e29a41aa0\" y=\"89.812297\"/>\r\n     <use style=\"fill:#0000ff;stroke:#000000;\" x=\"246.571888\" xlink:href=\"#m1e29a41aa0\" y=\"31.811492\"/>\r\n     <use style=\"fill:#0000ff;stroke:#000000;\" x=\"245.236624\" xlink:href=\"#m1e29a41aa0\" y=\"79.031692\"/>\r\n     <use style=\"fill:#0000ff;stroke:#000000;\" x=\"240.942293\" xlink:href=\"#m1e29a41aa0\" y=\"97.283083\"/>\r\n     <use style=\"fill:#0000ff;stroke:#000000;\" x=\"317.88111\" xlink:href=\"#m1e29a41aa0\" y=\"71.256128\"/>\r\n     <use style=\"fill:#0000ff;stroke:#000000;\" x=\"305.102483\" xlink:href=\"#m1e29a41aa0\" y=\"85.53425\"/>\r\n     <use style=\"fill:#0000ff;stroke:#000000;\" x=\"233.320546\" xlink:href=\"#m1e29a41aa0\" y=\"53.463763\"/>\r\n     <use style=\"fill:#0000ff;stroke:#000000;\" x=\"285.398901\" xlink:href=\"#m1e29a41aa0\" y=\"98.652727\"/>\r\n     <use style=\"fill:#0000ff;stroke:#000000;\" x=\"223.632978\" xlink:href=\"#m1e29a41aa0\" y=\"69.895776\"/>\r\n     <use style=\"fill:#0000ff;stroke:#000000;\" x=\"217.220642\" xlink:href=\"#m1e29a41aa0\" y=\"65.290649\"/>\r\n     <use style=\"fill:#0000ff;stroke:#000000;\" x=\"245.04938\" xlink:href=\"#m1e29a41aa0\" y=\"69.958962\"/>\r\n     <use style=\"fill:#0000ff;stroke:#000000;\" x=\"260.477048\" xlink:href=\"#m1e29a41aa0\" y=\"65.325959\"/>\r\n     <use style=\"fill:#0000ff;stroke:#000000;\" x=\"224.305214\" xlink:href=\"#m1e29a41aa0\" y=\"85.980267\"/>\r\n     <use style=\"fill:#0000ff;stroke:#000000;\" x=\"183.40317\" xlink:href=\"#m1e29a41aa0\" y=\"116.675534\"/>\r\n     <use style=\"fill:#0000ff;stroke:#000000;\" x=\"288.238255\" xlink:href=\"#m1e29a41aa0\" y=\"63.828085\"/>\r\n     <use style=\"fill:#0000ff;stroke:#000000;\" x=\"229.891835\" xlink:href=\"#m1e29a41aa0\" y=\"101.163432\"/>\r\n     <use style=\"fill:#0000ff;stroke:#000000;\" x=\"251.848482\" xlink:href=\"#m1e29a41aa0\" y=\"41.270771\"/>\r\n     <use style=\"fill:#0000ff;stroke:#000000;\" x=\"278.145503\" xlink:href=\"#m1e29a41aa0\" y=\"82.618413\"/>\r\n     <use style=\"fill:#0000ff;stroke:#000000;\" x=\"254.675557\" xlink:href=\"#m1e29a41aa0\" y=\"48.568726\"/>\r\n     <use style=\"fill:#0000ff;stroke:#000000;\" x=\"251.833134\" xlink:href=\"#m1e29a41aa0\" y=\"23.511858\"/>\r\n     <use style=\"fill:#0000ff;stroke:#000000;\" x=\"267.509437\" xlink:href=\"#m1e29a41aa0\" y=\"83.53089\"/>\r\n     <use style=\"fill:#0000ff;stroke:#000000;\" x=\"276.460308\" xlink:href=\"#m1e29a41aa0\" y=\"91.163357\"/>\r\n     <use style=\"fill:#0000ff;stroke:#000000;\" x=\"223.786456\" xlink:href=\"#m1e29a41aa0\" y=\"41.326523\"/>\r\n     <use style=\"fill:#0000ff;stroke:#000000;\" x=\"267.251593\" xlink:href=\"#m1e29a41aa0\" y=\"64.443217\"/>\r\n     <use style=\"fill:#0000ff;stroke:#000000;\" x=\"279.17381\" xlink:href=\"#m1e29a41aa0\" y=\"72.575595\"/>\r\n     <use style=\"fill:#0000ff;stroke:#000000;\" x=\"267.285358\" xlink:href=\"#m1e29a41aa0\" y=\"69.524095\"/>\r\n     <use style=\"fill:#0000ff;stroke:#000000;\" x=\"179.495605\" xlink:href=\"#m1e29a41aa0\" y=\"95.153352\"/>\r\n     <use style=\"fill:#0000ff;stroke:#000000;\" x=\"304.485499\" xlink:href=\"#m1e29a41aa0\" y=\"43.125459\"/>\r\n     <use style=\"fill:#0000ff;stroke:#000000;\" x=\"202.075375\" xlink:href=\"#m1e29a41aa0\" y=\"87.035841\"/>\r\n    </g>\r\n   </g>\r\n   <g id=\"PathCollection_2\">\r\n    <defs>\r\n     <path d=\"M 0 2.5 \r\nC 0.663008 2.5 1.29895 2.236584 1.767767 1.767767 \r\nC 2.236584 1.29895 2.5 0.663008 2.5 0 \r\nC 2.5 -0.663008 2.236584 -1.29895 1.767767 -1.767767 \r\nC 1.29895 -2.236584 0.663008 -2.5 0 -2.5 \r\nC -0.663008 -2.5 -1.29895 -2.236584 -1.767767 -1.767767 \r\nC -2.236584 -1.29895 -2.5 -0.663008 -2.5 0 \r\nC -2.5 0.663008 -2.236584 1.29895 -1.767767 1.767767 \r\nC -1.29895 2.236584 -0.663008 2.5 0 2.5 \r\nz\r\n\" id=\"m1ccf0a934a\" style=\"stroke:#000000;\"/>\r\n    </defs>\r\n    <g clip-path=\"url(#p7ca1cadbdc)\">\r\n     <use style=\"fill:#ff0000;stroke:#000000;\" x=\"282.310912\" xlink:href=\"#m1ccf0a934a\" y=\"214.756364\"/>\r\n     <use style=\"fill:#ff0000;stroke:#000000;\" x=\"131.051623\" xlink:href=\"#m1ccf0a934a\" y=\"148.772039\"/>\r\n     <use style=\"fill:#ff0000;stroke:#000000;\" x=\"167.70231\" xlink:href=\"#m1ccf0a934a\" y=\"169.699532\"/>\r\n     <use style=\"fill:#ff0000;stroke:#000000;\" x=\"132.451348\" xlink:href=\"#m1ccf0a934a\" y=\"124.55517\"/>\r\n     <use style=\"fill:#ff0000;stroke:#000000;\" x=\"199.036499\" xlink:href=\"#m1ccf0a934a\" y=\"137.404178\"/>\r\n     <use style=\"fill:#ff0000;stroke:#000000;\" x=\"128.015816\" xlink:href=\"#m1ccf0a934a\" y=\"182.849602\"/>\r\n     <use style=\"fill:#ff0000;stroke:#000000;\" x=\"127.223867\" xlink:href=\"#m1ccf0a934a\" y=\"141.182315\"/>\r\n     <use style=\"fill:#ff0000;stroke:#000000;\" x=\"177.785853\" xlink:href=\"#m1ccf0a934a\" y=\"144.858239\"/>\r\n     <use style=\"fill:#ff0000;stroke:#000000;\" x=\"145.733385\" xlink:href=\"#m1ccf0a934a\" y=\"123.042428\"/>\r\n     <use style=\"fill:#ff0000;stroke:#000000;\" x=\"114.703084\" xlink:href=\"#m1ccf0a934a\" y=\"156.489993\"/>\r\n     <use style=\"fill:#ff0000;stroke:#000000;\" x=\"45.321307\" xlink:href=\"#m1ccf0a934a\" y=\"177.541999\"/>\r\n     <use style=\"fill:#ff0000;stroke:#000000;\" x=\"80.848776\" xlink:href=\"#m1ccf0a934a\" y=\"140.490988\"/>\r\n     <use style=\"fill:#ff0000;stroke:#000000;\" x=\"121.443863\" xlink:href=\"#m1ccf0a934a\" y=\"123.711454\"/>\r\n     <use style=\"fill:#ff0000;stroke:#000000;\" x=\"183.651805\" xlink:href=\"#m1ccf0a934a\" y=\"127.796227\"/>\r\n     <use style=\"fill:#ff0000;stroke:#000000;\" x=\"179.467979\" xlink:href=\"#m1ccf0a934a\" y=\"119.078451\"/>\r\n     <use style=\"fill:#ff0000;stroke:#000000;\" x=\"172.318946\" xlink:href=\"#m1ccf0a934a\" y=\"165.536706\"/>\r\n     <use style=\"fill:#ff0000;stroke:#000000;\" x=\"194.864951\" xlink:href=\"#m1ccf0a934a\" y=\"163.070603\"/>\r\n     <use style=\"fill:#ff0000;stroke:#000000;\" x=\"137.417915\" xlink:href=\"#m1ccf0a934a\" y=\"157.753708\"/>\r\n     <use style=\"fill:#ff0000;stroke:#000000;\" x=\"164.611251\" xlink:href=\"#m1ccf0a934a\" y=\"120.340308\"/>\r\n     <use style=\"fill:#ff0000;stroke:#000000;\" x=\"143.854807\" xlink:href=\"#m1ccf0a934a\" y=\"130.043038\"/>\r\n     <use style=\"fill:#ff0000;stroke:#000000;\" x=\"167.779049\" xlink:href=\"#m1ccf0a934a\" y=\"128.08428\"/>\r\n     <use style=\"fill:#ff0000;stroke:#000000;\" x=\"138.068664\" xlink:href=\"#m1ccf0a934a\" y=\"108.699262\"/>\r\n     <use style=\"fill:#ff0000;stroke:#000000;\" x=\"195.095169\" xlink:href=\"#m1ccf0a934a\" y=\"118.582257\"/>\r\n     <use style=\"fill:#ff0000;stroke:#000000;\" x=\"73.647561\" xlink:href=\"#m1ccf0a934a\" y=\"143.356648\"/>\r\n     <use style=\"fill:#ff0000;stroke:#000000;\" x=\"257.312319\" xlink:href=\"#m1ccf0a934a\" y=\"133.592591\"/>\r\n     <use style=\"fill:#ff0000;stroke:#000000;\" x=\"134.099708\" xlink:href=\"#m1ccf0a934a\" y=\"73.48993\"/>\r\n     <use style=\"fill:#ff0000;stroke:#000000;\" x=\"89.075229\" xlink:href=\"#m1ccf0a934a\" y=\"96.361315\"/>\r\n     <use style=\"fill:#ff0000;stroke:#000000;\" x=\"93.15162\" xlink:href=\"#m1ccf0a934a\" y=\"151.336637\"/>\r\n     <use style=\"fill:#ff0000;stroke:#000000;\" x=\"144.818652\" xlink:href=\"#m1ccf0a934a\" y=\"192.523713\"/>\r\n     <use style=\"fill:#ff0000;stroke:#000000;\" x=\"207.689622\" xlink:href=\"#m1ccf0a934a\" y=\"149.704958\"/>\r\n     <use style=\"fill:#ff0000;stroke:#000000;\" x=\"102.593623\" xlink:href=\"#m1ccf0a934a\" y=\"134.387988\"/>\r\n     <use style=\"fill:#ff0000;stroke:#000000;\" x=\"166.363977\" xlink:href=\"#m1ccf0a934a\" y=\"196.392168\"/>\r\n     <use style=\"fill:#ff0000;stroke:#000000;\" x=\"108.097365\" xlink:href=\"#m1ccf0a934a\" y=\"100.397769\"/>\r\n     <use style=\"fill:#ff0000;stroke:#000000;\" x=\"191.439309\" xlink:href=\"#m1ccf0a934a\" y=\"97.011756\"/>\r\n     <use style=\"fill:#ff0000;stroke:#000000;\" x=\"120.928175\" xlink:href=\"#m1ccf0a934a\" y=\"138.630725\"/>\r\n     <use style=\"fill:#ff0000;stroke:#000000;\" x=\"109.417281\" xlink:href=\"#m1ccf0a934a\" y=\"149.697524\"/>\r\n     <use style=\"fill:#ff0000;stroke:#000000;\" x=\"248.628501\" xlink:href=\"#m1ccf0a934a\" y=\"116.437659\"/>\r\n     <use style=\"fill:#ff0000;stroke:#000000;\" x=\"159.831928\" xlink:href=\"#m1ccf0a934a\" y=\"117.028631\"/>\r\n     <use style=\"fill:#ff0000;stroke:#000000;\" x=\"207.98737\" xlink:href=\"#m1ccf0a934a\" y=\"142.016738\"/>\r\n     <use style=\"fill:#ff0000;stroke:#000000;\" x=\"191.5713\" xlink:href=\"#m1ccf0a934a\" y=\"154.473624\"/>\r\n     <use style=\"fill:#ff0000;stroke:#000000;\" x=\"156.59353\" xlink:href=\"#m1ccf0a934a\" y=\"130.801267\"/>\r\n     <use style=\"fill:#ff0000;stroke:#000000;\" x=\"210.102305\" xlink:href=\"#m1ccf0a934a\" y=\"84.151597\"/>\r\n     <use style=\"fill:#ff0000;stroke:#000000;\" x=\"141.411428\" xlink:href=\"#m1ccf0a934a\" y=\"180.610225\"/>\r\n     <use style=\"fill:#ff0000;stroke:#000000;\" x=\"172.312807\" xlink:href=\"#m1ccf0a934a\" y=\"88.323715\"/>\r\n     <use style=\"fill:#ff0000;stroke:#000000;\" x=\"74.018979\" xlink:href=\"#m1ccf0a934a\" y=\"191.697838\"/>\r\n     <use style=\"fill:#ff0000;stroke:#000000;\" x=\"89.551012\" xlink:href=\"#m1ccf0a934a\" y=\"162.633878\"/>\r\n     <use style=\"fill:#ff0000;stroke:#000000;\" x=\"182.571316\" xlink:href=\"#m1ccf0a934a\" y=\"121.583581\"/>\r\n     <use style=\"fill:#ff0000;stroke:#000000;\" x=\"130.173725\" xlink:href=\"#m1ccf0a934a\" y=\"106.02316\"/>\r\n     <use style=\"fill:#ff0000;stroke:#000000;\" x=\"127.549241\" xlink:href=\"#m1ccf0a934a\" y=\"163.406974\"/>\r\n     <use style=\"fill:#ff0000;stroke:#000000;\" x=\"164.737104\" xlink:href=\"#m1ccf0a934a\" y=\"143.637267\"/>\r\n    </g>\r\n   </g>\r\n   <g id=\"matplotlib.axis_1\">\r\n    <g id=\"xtick_1\">\r\n     <g id=\"line2d_1\">\r\n      <defs>\r\n       <path d=\"M 0 0 \r\nL 0 3.5 \r\n\" id=\"m3aaff6e47b\" style=\"stroke:#000000;stroke-width:0.8;\"/>\r\n      </defs>\r\n      <g>\r\n       <use style=\"stroke:#000000;stroke-width:0.8;\" x=\"42.727764\" xlink:href=\"#m3aaff6e47b\" y=\"224.64\"/>\r\n      </g>\r\n     </g>\r\n     <g id=\"text_1\">\r\n      <!-- 0.0 -->\r\n      <defs>\r\n       <path d=\"M 31.78125 66.40625 \r\nQ 24.171875 66.40625 20.328125 58.90625 \r\nQ 16.5 51.421875 16.5 36.375 \r\nQ 16.5 21.390625 20.328125 13.890625 \r\nQ 24.171875 6.390625 31.78125 6.390625 \r\nQ 39.453125 6.390625 43.28125 13.890625 \r\nQ 47.125 21.390625 47.125 36.375 \r\nQ 47.125 51.421875 43.28125 58.90625 \r\nQ 39.453125 66.40625 31.78125 66.40625 \r\nz\r\nM 31.78125 74.21875 \r\nQ 44.046875 74.21875 50.515625 64.515625 \r\nQ 56.984375 54.828125 56.984375 36.375 \r\nQ 56.984375 17.96875 50.515625 8.265625 \r\nQ 44.046875 -1.421875 31.78125 -1.421875 \r\nQ 19.53125 -1.421875 13.0625 8.265625 \r\nQ 6.59375 17.96875 6.59375 36.375 \r\nQ 6.59375 54.828125 13.0625 64.515625 \r\nQ 19.53125 74.21875 31.78125 74.21875 \r\nz\r\n\" id=\"DejaVuSans-48\"/>\r\n       <path d=\"M 10.6875 12.40625 \r\nL 21 12.40625 \r\nL 21 0 \r\nL 10.6875 0 \r\nz\r\n\" id=\"DejaVuSans-46\"/>\r\n      </defs>\r\n      <g transform=\"translate(34.776202 239.238437)scale(0.1 -0.1)\">\r\n       <use xlink:href=\"#DejaVuSans-48\"/>\r\n       <use x=\"63.623047\" xlink:href=\"#DejaVuSans-46\"/>\r\n       <use x=\"95.410156\" xlink:href=\"#DejaVuSans-48\"/>\r\n      </g>\r\n     </g>\r\n    </g>\r\n    <g id=\"xtick_2\">\r\n     <g id=\"line2d_2\">\r\n      <g>\r\n       <use style=\"stroke:#000000;stroke-width:0.8;\" x=\"104.1192\" xlink:href=\"#m3aaff6e47b\" y=\"224.64\"/>\r\n      </g>\r\n     </g>\r\n     <g id=\"text_2\">\r\n      <!-- 0.2 -->\r\n      <defs>\r\n       <path d=\"M 19.1875 8.296875 \r\nL 53.609375 8.296875 \r\nL 53.609375 0 \r\nL 7.328125 0 \r\nL 7.328125 8.296875 \r\nQ 12.9375 14.109375 22.625 23.890625 \r\nQ 32.328125 33.6875 34.8125 36.53125 \r\nQ 39.546875 41.84375 41.421875 45.53125 \r\nQ 43.3125 49.21875 43.3125 52.78125 \r\nQ 43.3125 58.59375 39.234375 62.25 \r\nQ 35.15625 65.921875 28.609375 65.921875 \r\nQ 23.96875 65.921875 18.8125 64.3125 \r\nQ 13.671875 62.703125 7.8125 59.421875 \r\nL 7.8125 69.390625 \r\nQ 13.765625 71.78125 18.9375 73 \r\nQ 24.125 74.21875 28.421875 74.21875 \r\nQ 39.75 74.21875 46.484375 68.546875 \r\nQ 53.21875 62.890625 53.21875 53.421875 \r\nQ 53.21875 48.921875 51.53125 44.890625 \r\nQ 49.859375 40.875 45.40625 35.40625 \r\nQ 44.1875 33.984375 37.640625 27.21875 \r\nQ 31.109375 20.453125 19.1875 8.296875 \r\nz\r\n\" id=\"DejaVuSans-50\"/>\r\n      </defs>\r\n      <g transform=\"translate(96.167638 239.238437)scale(0.1 -0.1)\">\r\n       <use xlink:href=\"#DejaVuSans-48\"/>\r\n       <use x=\"63.623047\" xlink:href=\"#DejaVuSans-46\"/>\r\n       <use x=\"95.410156\" xlink:href=\"#DejaVuSans-50\"/>\r\n      </g>\r\n     </g>\r\n    </g>\r\n    <g id=\"xtick_3\">\r\n     <g id=\"line2d_3\">\r\n      <g>\r\n       <use style=\"stroke:#000000;stroke-width:0.8;\" x=\"165.510636\" xlink:href=\"#m3aaff6e47b\" y=\"224.64\"/>\r\n      </g>\r\n     </g>\r\n     <g id=\"text_3\">\r\n      <!-- 0.4 -->\r\n      <defs>\r\n       <path d=\"M 37.796875 64.3125 \r\nL 12.890625 25.390625 \r\nL 37.796875 25.390625 \r\nz\r\nM 35.203125 72.90625 \r\nL 47.609375 72.90625 \r\nL 47.609375 25.390625 \r\nL 58.015625 25.390625 \r\nL 58.015625 17.1875 \r\nL 47.609375 17.1875 \r\nL 47.609375 0 \r\nL 37.796875 0 \r\nL 37.796875 17.1875 \r\nL 4.890625 17.1875 \r\nL 4.890625 26.703125 \r\nz\r\n\" id=\"DejaVuSans-52\"/>\r\n      </defs>\r\n      <g transform=\"translate(157.559073 239.238437)scale(0.1 -0.1)\">\r\n       <use xlink:href=\"#DejaVuSans-48\"/>\r\n       <use x=\"63.623047\" xlink:href=\"#DejaVuSans-46\"/>\r\n       <use x=\"95.410156\" xlink:href=\"#DejaVuSans-52\"/>\r\n      </g>\r\n     </g>\r\n    </g>\r\n    <g id=\"xtick_4\">\r\n     <g id=\"line2d_4\">\r\n      <g>\r\n       <use style=\"stroke:#000000;stroke-width:0.8;\" x=\"226.902072\" xlink:href=\"#m3aaff6e47b\" y=\"224.64\"/>\r\n      </g>\r\n     </g>\r\n     <g id=\"text_4\">\r\n      <!-- 0.6 -->\r\n      <defs>\r\n       <path d=\"M 33.015625 40.375 \r\nQ 26.375 40.375 22.484375 35.828125 \r\nQ 18.609375 31.296875 18.609375 23.390625 \r\nQ 18.609375 15.53125 22.484375 10.953125 \r\nQ 26.375 6.390625 33.015625 6.390625 \r\nQ 39.65625 6.390625 43.53125 10.953125 \r\nQ 47.40625 15.53125 47.40625 23.390625 \r\nQ 47.40625 31.296875 43.53125 35.828125 \r\nQ 39.65625 40.375 33.015625 40.375 \r\nz\r\nM 52.59375 71.296875 \r\nL 52.59375 62.3125 \r\nQ 48.875 64.0625 45.09375 64.984375 \r\nQ 41.3125 65.921875 37.59375 65.921875 \r\nQ 27.828125 65.921875 22.671875 59.328125 \r\nQ 17.53125 52.734375 16.796875 39.40625 \r\nQ 19.671875 43.65625 24.015625 45.921875 \r\nQ 28.375 48.1875 33.59375 48.1875 \r\nQ 44.578125 48.1875 50.953125 41.515625 \r\nQ 57.328125 34.859375 57.328125 23.390625 \r\nQ 57.328125 12.15625 50.6875 5.359375 \r\nQ 44.046875 -1.421875 33.015625 -1.421875 \r\nQ 20.359375 -1.421875 13.671875 8.265625 \r\nQ 6.984375 17.96875 6.984375 36.375 \r\nQ 6.984375 53.65625 15.1875 63.9375 \r\nQ 23.390625 74.21875 37.203125 74.21875 \r\nQ 40.921875 74.21875 44.703125 73.484375 \r\nQ 48.484375 72.75 52.59375 71.296875 \r\nz\r\n\" id=\"DejaVuSans-54\"/>\r\n      </defs>\r\n      <g transform=\"translate(218.950509 239.238437)scale(0.1 -0.1)\">\r\n       <use xlink:href=\"#DejaVuSans-48\"/>\r\n       <use x=\"63.623047\" xlink:href=\"#DejaVuSans-46\"/>\r\n       <use x=\"95.410156\" xlink:href=\"#DejaVuSans-54\"/>\r\n      </g>\r\n     </g>\r\n    </g>\r\n    <g id=\"xtick_5\">\r\n     <g id=\"line2d_5\">\r\n      <g>\r\n       <use style=\"stroke:#000000;stroke-width:0.8;\" x=\"288.293507\" xlink:href=\"#m3aaff6e47b\" y=\"224.64\"/>\r\n      </g>\r\n     </g>\r\n     <g id=\"text_5\">\r\n      <!-- 0.8 -->\r\n      <defs>\r\n       <path d=\"M 31.78125 34.625 \r\nQ 24.75 34.625 20.71875 30.859375 \r\nQ 16.703125 27.09375 16.703125 20.515625 \r\nQ 16.703125 13.921875 20.71875 10.15625 \r\nQ 24.75 6.390625 31.78125 6.390625 \r\nQ 38.8125 6.390625 42.859375 10.171875 \r\nQ 46.921875 13.96875 46.921875 20.515625 \r\nQ 46.921875 27.09375 42.890625 30.859375 \r\nQ 38.875 34.625 31.78125 34.625 \r\nz\r\nM 21.921875 38.8125 \r\nQ 15.578125 40.375 12.03125 44.71875 \r\nQ 8.5 49.078125 8.5 55.328125 \r\nQ 8.5 64.0625 14.71875 69.140625 \r\nQ 20.953125 74.21875 31.78125 74.21875 \r\nQ 42.671875 74.21875 48.875 69.140625 \r\nQ 55.078125 64.0625 55.078125 55.328125 \r\nQ 55.078125 49.078125 51.53125 44.71875 \r\nQ 48 40.375 41.703125 38.8125 \r\nQ 48.828125 37.15625 52.796875 32.3125 \r\nQ 56.78125 27.484375 56.78125 20.515625 \r\nQ 56.78125 9.90625 50.3125 4.234375 \r\nQ 43.84375 -1.421875 31.78125 -1.421875 \r\nQ 19.734375 -1.421875 13.25 4.234375 \r\nQ 6.78125 9.90625 6.78125 20.515625 \r\nQ 6.78125 27.484375 10.78125 32.3125 \r\nQ 14.796875 37.15625 21.921875 38.8125 \r\nz\r\nM 18.3125 54.390625 \r\nQ 18.3125 48.734375 21.84375 45.5625 \r\nQ 25.390625 42.390625 31.78125 42.390625 \r\nQ 38.140625 42.390625 41.71875 45.5625 \r\nQ 45.3125 48.734375 45.3125 54.390625 \r\nQ 45.3125 60.0625 41.71875 63.234375 \r\nQ 38.140625 66.40625 31.78125 66.40625 \r\nQ 25.390625 66.40625 21.84375 63.234375 \r\nQ 18.3125 60.0625 18.3125 54.390625 \r\nz\r\n\" id=\"DejaVuSans-56\"/>\r\n      </defs>\r\n      <g transform=\"translate(280.341945 239.238437)scale(0.1 -0.1)\">\r\n       <use xlink:href=\"#DejaVuSans-48\"/>\r\n       <use x=\"63.623047\" xlink:href=\"#DejaVuSans-46\"/>\r\n       <use x=\"95.410156\" xlink:href=\"#DejaVuSans-56\"/>\r\n      </g>\r\n     </g>\r\n    </g>\r\n    <g id=\"xtick_6\">\r\n     <g id=\"line2d_6\">\r\n      <g>\r\n       <use style=\"stroke:#000000;stroke-width:0.8;\" x=\"349.684943\" xlink:href=\"#m3aaff6e47b\" y=\"224.64\"/>\r\n      </g>\r\n     </g>\r\n     <g id=\"text_6\">\r\n      <!-- 1.0 -->\r\n      <defs>\r\n       <path d=\"M 12.40625 8.296875 \r\nL 28.515625 8.296875 \r\nL 28.515625 63.921875 \r\nL 10.984375 60.40625 \r\nL 10.984375 69.390625 \r\nL 28.421875 72.90625 \r\nL 38.28125 72.90625 \r\nL 38.28125 8.296875 \r\nL 54.390625 8.296875 \r\nL 54.390625 0 \r\nL 12.40625 0 \r\nz\r\n\" id=\"DejaVuSans-49\"/>\r\n      </defs>\r\n      <g transform=\"translate(341.733381 239.238437)scale(0.1 -0.1)\">\r\n       <use xlink:href=\"#DejaVuSans-49\"/>\r\n       <use x=\"63.623047\" xlink:href=\"#DejaVuSans-46\"/>\r\n       <use x=\"95.410156\" xlink:href=\"#DejaVuSans-48\"/>\r\n      </g>\r\n     </g>\r\n    </g>\r\n   </g>\r\n   <g id=\"matplotlib.axis_2\">\r\n    <g id=\"ytick_1\">\r\n     <g id=\"line2d_7\">\r\n      <defs>\r\n       <path d=\"M 0 0 \r\nL -3.5 0 \r\n\" id=\"m901fbde3af\" style=\"stroke:#000000;stroke-width:0.8;\"/>\r\n      </defs>\r\n      <g>\r\n       <use style=\"stroke:#000000;stroke-width:0.8;\" x=\"30.103125\" xlink:href=\"#m901fbde3af\" y=\"202.924088\"/>\r\n      </g>\r\n     </g>\r\n     <g id=\"text_7\">\r\n      <!-- 0.0 -->\r\n      <g transform=\"translate(7.2 206.723307)scale(0.1 -0.1)\">\r\n       <use xlink:href=\"#DejaVuSans-48\"/>\r\n       <use x=\"63.623047\" xlink:href=\"#DejaVuSans-46\"/>\r\n       <use x=\"95.410156\" xlink:href=\"#DejaVuSans-48\"/>\r\n      </g>\r\n     </g>\r\n    </g>\r\n    <g id=\"ytick_2\">\r\n     <g id=\"line2d_8\">\r\n      <g>\r\n       <use style=\"stroke:#000000;stroke-width:0.8;\" x=\"30.103125\" xlink:href=\"#m901fbde3af\" y=\"165.755998\"/>\r\n      </g>\r\n     </g>\r\n     <g id=\"text_8\">\r\n      <!-- 0.2 -->\r\n      <g transform=\"translate(7.2 169.555216)scale(0.1 -0.1)\">\r\n       <use xlink:href=\"#DejaVuSans-48\"/>\r\n       <use x=\"63.623047\" xlink:href=\"#DejaVuSans-46\"/>\r\n       <use x=\"95.410156\" xlink:href=\"#DejaVuSans-50\"/>\r\n      </g>\r\n     </g>\r\n    </g>\r\n    <g id=\"ytick_3\">\r\n     <g id=\"line2d_9\">\r\n      <g>\r\n       <use style=\"stroke:#000000;stroke-width:0.8;\" x=\"30.103125\" xlink:href=\"#m901fbde3af\" y=\"128.587907\"/>\r\n      </g>\r\n     </g>\r\n     <g id=\"text_9\">\r\n      <!-- 0.4 -->\r\n      <g transform=\"translate(7.2 132.387126)scale(0.1 -0.1)\">\r\n       <use xlink:href=\"#DejaVuSans-48\"/>\r\n       <use x=\"63.623047\" xlink:href=\"#DejaVuSans-46\"/>\r\n       <use x=\"95.410156\" xlink:href=\"#DejaVuSans-52\"/>\r\n      </g>\r\n     </g>\r\n    </g>\r\n    <g id=\"ytick_4\">\r\n     <g id=\"line2d_10\">\r\n      <g>\r\n       <use style=\"stroke:#000000;stroke-width:0.8;\" x=\"30.103125\" xlink:href=\"#m901fbde3af\" y=\"91.419817\"/>\r\n      </g>\r\n     </g>\r\n     <g id=\"text_10\">\r\n      <!-- 0.6 -->\r\n      <g transform=\"translate(7.2 95.219036)scale(0.1 -0.1)\">\r\n       <use xlink:href=\"#DejaVuSans-48\"/>\r\n       <use x=\"63.623047\" xlink:href=\"#DejaVuSans-46\"/>\r\n       <use x=\"95.410156\" xlink:href=\"#DejaVuSans-54\"/>\r\n      </g>\r\n     </g>\r\n    </g>\r\n    <g id=\"ytick_5\">\r\n     <g id=\"line2d_11\">\r\n      <g>\r\n       <use style=\"stroke:#000000;stroke-width:0.8;\" x=\"30.103125\" xlink:href=\"#m901fbde3af\" y=\"54.251727\"/>\r\n      </g>\r\n     </g>\r\n     <g id=\"text_11\">\r\n      <!-- 0.8 -->\r\n      <g transform=\"translate(7.2 58.050945)scale(0.1 -0.1)\">\r\n       <use xlink:href=\"#DejaVuSans-48\"/>\r\n       <use x=\"63.623047\" xlink:href=\"#DejaVuSans-46\"/>\r\n       <use x=\"95.410156\" xlink:href=\"#DejaVuSans-56\"/>\r\n      </g>\r\n     </g>\r\n    </g>\r\n    <g id=\"ytick_6\">\r\n     <g id=\"line2d_12\">\r\n      <g>\r\n       <use style=\"stroke:#000000;stroke-width:0.8;\" x=\"30.103125\" xlink:href=\"#m901fbde3af\" y=\"17.083636\"/>\r\n      </g>\r\n     </g>\r\n     <g id=\"text_12\">\r\n      <!-- 1.0 -->\r\n      <g transform=\"translate(7.2 20.882855)scale(0.1 -0.1)\">\r\n       <use xlink:href=\"#DejaVuSans-49\"/>\r\n       <use x=\"63.623047\" xlink:href=\"#DejaVuSans-46\"/>\r\n       <use x=\"95.410156\" xlink:href=\"#DejaVuSans-48\"/>\r\n      </g>\r\n     </g>\r\n    </g>\r\n   </g>\r\n   <g id=\"patch_3\">\r\n    <path d=\"M 30.103125 224.64 \r\nL 30.103125 7.2 \r\n\" style=\"fill:none;stroke:#000000;stroke-linecap:square;stroke-linejoin:miter;stroke-width:0.8;\"/>\r\n   </g>\r\n   <g id=\"patch_4\">\r\n    <path d=\"M 364.903125 224.64 \r\nL 364.903125 7.2 \r\n\" style=\"fill:none;stroke:#000000;stroke-linecap:square;stroke-linejoin:miter;stroke-width:0.8;\"/>\r\n   </g>\r\n   <g id=\"patch_5\">\r\n    <path d=\"M 30.103125 224.64 \r\nL 364.903125 224.64 \r\n\" style=\"fill:none;stroke:#000000;stroke-linecap:square;stroke-linejoin:miter;stroke-width:0.8;\"/>\r\n   </g>\r\n   <g id=\"patch_6\">\r\n    <path d=\"M 30.103125 7.2 \r\nL 364.903125 7.2 \r\n\" style=\"fill:none;stroke:#000000;stroke-linecap:square;stroke-linejoin:miter;stroke-width:0.8;\"/>\r\n   </g>\r\n  </g>\r\n </g>\r\n <defs>\r\n  <clipPath id=\"p7ca1cadbdc\">\r\n   <rect height=\"217.44\" width=\"334.8\" x=\"30.103125\" y=\"7.2\"/>\r\n  </clipPath>\r\n </defs>\r\n</svg>\r\n",
      "image/png": "[encoded data removed]"
     },
     "metadata": {
      "needs_background": "light"
     }
    }
   ],
   "source": [
    "data = pd.read_csv('data.csv', header=None)\n",
    "X = np.array(data[[0,1]])\n",
    "y = np.array(data[2])\n",
    "plot_points(X,y)\n",
    "plt.show()"
   ]
  },
  {
   "cell_type": "markdown",
   "metadata": {},
   "source": [
    "## TODO: Implementing the basic functions\n",
    "Here is your turn to shine. Implement the following formulas, as explained in the text.\n",
    "- Sigmoid activation function\n",
    "\n",
    "$$\\sigma(x) = \\frac{1}{1+e^{-x}}$$\n",
    "\n",
    "- Output (prediction) formula\n",
    "\n",
    "$$\\hat{y} = \\sigma(w_1 x_1 + w_2 x_2 + b)$$\n",
    "\n",
    "- Error function\n",
    "\n",
    "$$Error(y, \\hat{y}) = - y \\log(\\hat{y}) - (1-y) \\log(1-\\hat{y})$$\n",
    "\n",
    "- The function that updates the weights\n",
    "\n",
    "$$ w_i \\longrightarrow w_i + \\alpha (y - \\hat{y}) x_i$$\n",
    "\n",
    "$$ b \\longrightarrow b + \\alpha (y - \\hat{y})$$"
   ]
  },
  {
   "cell_type": "code",
   "execution_count": 7,
   "metadata": {
    "collapsed": true
   },
   "outputs": [],
   "source": [
    "# Activation (sigmoid) function\n",
    "def sigmoid(x):\n",
    "    return 1 / (1 + np.exp(-x))\n",
    "\n",
    "def output_formula(features, weights, bias):\n",
    "    return sigmoid(np.dot(features, weights) + bias)\n",
    "\n",
    "def error_formula(y, output):\n",
    "    return - y*np.log(output) - (1 - y) * np.log(1-output)\n",
    "\n",
    "def update_weights(x, y, weights, bias, learnrate):\n",
    "    output = output_formula(x, weights, bias)\n",
    "    d_error = y - output\n",
    "    weights += learnrate * d_error * x\n",
    "    bias += learnrate * d_error\n",
    "    return weights, bias"
   ]
  },
  {
   "cell_type": "markdown",
   "metadata": {},
   "source": [
    "## Training function\n",
    "This function will help us iterate the gradient descent algorithm through all the data, for a number of epochs. It will also plot the data, and some of the boundary lines obtained as we run the algorithm."
   ]
  },
  {
   "cell_type": "code",
   "execution_count": 8,
   "metadata": {
    "collapsed": true
   },
   "outputs": [],
   "source": [
    "np.random.seed(44)\n",
    "\n",
    "epochs = 100\n",
    "learnrate = 0.01\n",
    "\n",
    "def train(features, targets, epochs, learnrate, graph_lines=False):\n",
    "    \n",
    "    errors = []\n",
    "    n_records, n_features = features.shape\n",
    "    last_loss = None\n",
    "    weights = np.random.normal(scale=1 / n_features**.5, size=n_features)\n",
    "    bias = 0\n",
    "    for e in range(epochs):\n",
    "        del_w = np.zeros(weights.shape)\n",
    "        for x, y in zip(features, targets):\n",
    "            output = output_formula(x, weights, bias)\n",
    "            error = error_formula(y, output)\n",
    "            weights, bias = update_weights(x, y, weights, bias, learnrate)\n",
    "        \n",
    "        # Printing out the log-loss error on the training set\n",
    "        out = output_formula(features, weights, bias)\n",
    "        loss = np.mean(error_formula(targets, out))\n",
    "        errors.append(loss)\n",
    "        if e % (epochs / 10) == 0:\n",
    "            print(\"\\n========== Epoch\", e,\"==========\")\n",
    "            if last_loss and last_loss < loss:\n",
    "                print(\"Train loss: \", loss, \"  WARNING - Loss Increasing\")\n",
    "            else:\n",
    "                print(\"Train loss: \", loss)\n",
    "            last_loss = loss\n",
    "            predictions = out > 0.5\n",
    "            accuracy = np.mean(predictions == targets)\n",
    "            print(\"Accuracy: \", accuracy)\n",
    "        if graph_lines and e % (epochs / 100) == 0:\n",
    "            display(-weights[0]/weights[1], -bias/weights[1])\n",
    "            \n",
    "\n",
    "    # Plotting the solution boundary\n",
    "    plt.title(\"Solution boundary\")\n",
    "    display(-weights[0]/weights[1], -bias/weights[1], 'black')\n",
    "\n",
    "    # Plotting the data\n",
    "    plot_points(features, targets)\n",
    "    plt.show()\n",
    "\n",
    "    # Plotting the error\n",
    "    plt.title(\"Error Plot\")\n",
    "    plt.xlabel('Number of epochs')\n",
    "    plt.ylabel('Error')\n",
    "    plt.plot(errors)\n",
    "    plt.show()"
   ]
  },
  {
   "cell_type": "markdown",
   "metadata": {},
   "source": [
    "## Time to train the algorithm!\n",
    "When we run the function, we'll obtain the following:\n",
    "- 10 updates with the current training loss and accuracy\n",
    "- A plot of the data and some of the boundary lines obtained. The final one is in black. Notice how the lines get closer and closer to the best fit, as we go through more epochs.\n",
    "- A plot of the error function. Notice how it decreases as we go through more epochs."
   ]
  },
  {
   "cell_type": "code",
   "execution_count": null,
   "metadata": {
    "collapsed": true
   },
   "outputs": [],
   "source": [
    "train(X, y, epochs, learnrate, True)"
   ]
  }
 ],
 "metadata": {
  "kernelspec": {
   "display_name": "Python 3.8.1 64-bit",
   "language": "python",
   "name": "python38164bit2f413dc6fa5e4030b53b2415b5f3cd8d"
  },
  "language_info": {
   "codemirror_mode": {
    "name": "ipython",
    "version": 3
   },
   "file_extension": ".py",
   "mimetype": "text/x-python",
   "name": "python",
   "nbconvert_exporter": "python",
   "pygments_lexer": "ipython3",
   "version": "3.8.1-final"
  }
 },
 "nbformat": 4,
 "nbformat_minor": 2
}